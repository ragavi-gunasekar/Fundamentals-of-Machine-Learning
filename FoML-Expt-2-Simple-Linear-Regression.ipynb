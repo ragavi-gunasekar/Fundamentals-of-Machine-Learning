{
  "nbformat": 4,
  "nbformat_minor": 0,
  "metadata": {
    "colab": {
      "provenance": [],
      "toc_visible": true
    },
    "kernelspec": {
      "name": "python3",
      "display_name": "Python 3"
    },
    "language_info": {
      "name": "python"
    }
  },
  "cells": [
    {
      "cell_type": "markdown",
      "source": [
        "# Installing the necessary packages"
      ],
      "metadata": {
        "id": "aldayUxrfRGX"
      }
    },
    {
      "cell_type": "code",
      "execution_count": 13,
      "metadata": {
        "colab": {
          "base_uri": "https://localhost:8080/"
        },
        "id": "qg7on_HUfMN7",
        "outputId": "db4c2bcb-f3bf-432b-80f8-07b41abfc745"
      },
      "outputs": [
        {
          "output_type": "stream",
          "name": "stdout",
          "text": [
            "Requirement already satisfied: pandas in /usr/local/lib/python3.12/dist-packages (2.2.2)\n",
            "Requirement already satisfied: matplotlib in /usr/local/lib/python3.12/dist-packages (3.10.0)\n",
            "Requirement already satisfied: numpy in /usr/local/lib/python3.12/dist-packages (2.0.2)\n",
            "Requirement already satisfied: python-dateutil>=2.8.2 in /usr/local/lib/python3.12/dist-packages (from pandas) (2.9.0.post0)\n",
            "Requirement already satisfied: pytz>=2020.1 in /usr/local/lib/python3.12/dist-packages (from pandas) (2025.2)\n",
            "Requirement already satisfied: tzdata>=2022.7 in /usr/local/lib/python3.12/dist-packages (from pandas) (2025.2)\n",
            "Requirement already satisfied: contourpy>=1.0.1 in /usr/local/lib/python3.12/dist-packages (from matplotlib) (1.3.3)\n",
            "Requirement already satisfied: cycler>=0.10 in /usr/local/lib/python3.12/dist-packages (from matplotlib) (0.12.1)\n",
            "Requirement already satisfied: fonttools>=4.22.0 in /usr/local/lib/python3.12/dist-packages (from matplotlib) (4.59.1)\n",
            "Requirement already satisfied: kiwisolver>=1.3.1 in /usr/local/lib/python3.12/dist-packages (from matplotlib) (1.4.9)\n",
            "Requirement already satisfied: packaging>=20.0 in /usr/local/lib/python3.12/dist-packages (from matplotlib) (25.0)\n",
            "Requirement already satisfied: pillow>=8 in /usr/local/lib/python3.12/dist-packages (from matplotlib) (11.3.0)\n",
            "Requirement already satisfied: pyparsing>=2.3.1 in /usr/local/lib/python3.12/dist-packages (from matplotlib) (3.2.3)\n",
            "Requirement already satisfied: six>=1.5 in /usr/local/lib/python3.12/dist-packages (from python-dateutil>=2.8.2->pandas) (1.17.0)\n"
          ]
        }
      ],
      "source": [
        "!pip install pandas matplotlib numpy"
      ]
    },
    {
      "cell_type": "markdown",
      "source": [
        "# Importing the packages"
      ],
      "metadata": {
        "id": "Dld979Xpfk25"
      }
    },
    {
      "cell_type": "code",
      "source": [
        "import pandas as pd\n",
        "import matplotlib.pyplot as plt\n",
        "import numpy as np"
      ],
      "metadata": {
        "id": "n0wYw2tafnef"
      },
      "execution_count": 2,
      "outputs": []
    },
    {
      "cell_type": "markdown",
      "source": [
        "# Load the dataset"
      ],
      "metadata": {
        "id": "mb-OuQXIfqKA"
      }
    },
    {
      "cell_type": "code",
      "source": [
        "data = pd.read_csv(\"/content/sample_data/headbrain.csv\")"
      ],
      "metadata": {
        "id": "DhF7kvjofr7q"
      },
      "execution_count": 3,
      "outputs": []
    },
    {
      "cell_type": "markdown",
      "source": [
        "# Extract Head Size (X) and Brain Weight (Y)"
      ],
      "metadata": {
        "id": "MRZiyJqwf7Iz"
      }
    },
    {
      "cell_type": "code",
      "source": [
        "x = np.array(list(data['Head Size(cm^3)'])) # Extracting the head size\n",
        "y = np.array(list(data['Brain Weight(grams)'])) # Extracting the brain weight"
      ],
      "metadata": {
        "id": "Rkxy6ui_f8Ij"
      },
      "execution_count": 4,
      "outputs": []
    },
    {
      "cell_type": "markdown",
      "source": [
        "## Printing first N values of X and Y"
      ],
      "metadata": {
        "id": "BKpH1qbNgLJT"
      }
    },
    {
      "cell_type": "code",
      "source": [
        "print(\"Sample X:\", x[:5])\n",
        "print(\"Sample Y:\", y[:5])"
      ],
      "metadata": {
        "colab": {
          "base_uri": "https://localhost:8080/"
        },
        "id": "hiJMpbR5gRCB",
        "outputId": "bbd3b141-f1d3-4dbe-c5be-9a7993e6e1cc"
      },
      "execution_count": 5,
      "outputs": [
        {
          "output_type": "stream",
          "name": "stdout",
          "text": [
            "Sample X: [4512 3738 4261 3777 4177]\n",
            "Sample Y: [1530 1297 1335 1282 1590]\n"
          ]
        }
      ]
    },
    {
      "cell_type": "markdown",
      "source": [
        "# Function to compute regression line manually"
      ],
      "metadata": {
        "id": "qf4ymXPMgVrU"
      }
    },
    {
      "cell_type": "markdown",
      "source": [
        "**What is lambda function?**\n",
        "> A lambda function in Python is just a shortcut way to write a tiny function."
      ],
      "metadata": {
        "id": "f9KutjazgkOG"
      }
    },
    {
      "cell_type": "code",
      "source": [
        "def get_line(x, y):\n",
        "    # Mean of X and Y\n",
        "    x_m, y_m = np.mean(x), np.mean(y)\n",
        "    print(\"Mean of X:\", x_m, \"Mean of Y:\", y_m)\n",
        "\n",
        "    # Deviations from mean\n",
        "    x_d, y_d = x - x_m, y - y_m\n",
        "\n",
        "    # Slope (m) using least squares formula\n",
        "    m = np.sum(x_d * y_d) / np.sum(x_d ** 2)\n",
        "\n",
        "    # Intercept (c)\n",
        "    c = y_m - (m * x_m)\n",
        "\n",
        "    print(\"Slope:\", m, \"Intercept:\", c)\n",
        "\n",
        "    # Return line function y = mx + c as a lambda function\n",
        "    return lambda x: m * x + c"
      ],
      "metadata": {
        "id": "3xdel_ENgXzO"
      },
      "execution_count": 6,
      "outputs": []
    },
    {
      "cell_type": "markdown",
      "source": [
        "# Get the regression line function"
      ],
      "metadata": {
        "id": "QcECpvN-hB9B"
      }
    },
    {
      "cell_type": "code",
      "source": [
        "lin = get_line(x, y) # Get the regression line function (y = mx + c)"
      ],
      "metadata": {
        "colab": {
          "base_uri": "https://localhost:8080/"
        },
        "id": "Qb4za7h8hC7Y",
        "outputId": "7dbd839c-71ee-4bf8-bb30-d2bc2e821451"
      },
      "execution_count": 7,
      "outputs": [
        {
          "output_type": "stream",
          "name": "stdout",
          "text": [
            "Mean of X: 3633.9915611814345 Mean of Y: 1282.873417721519\n",
            "Slope: 0.2634293394893993 Intercept: 325.5734210494428\n"
          ]
        }
      ]
    },
    {
      "cell_type": "markdown",
      "source": [
        "# Generate points for regression line plotting"
      ],
      "metadata": {
        "id": "UG6FB6jKhGyZ"
      }
    },
    {
      "cell_type": "code",
      "source": [
        "X = np.linspace(np.min(x) - 100, np.max(x) + 100, 1000) # Generate X values (a smooth range) for plotting the regression line\n",
        "Y = np.array([lin(val) for val in X]) # Calculate predicted Y values using the regression line function"
      ],
      "metadata": {
        "id": "7S88syVEhH_m"
      },
      "execution_count": 8,
      "outputs": []
    },
    {
      "cell_type": "markdown",
      "source": [
        "# Plot regression line and scatter points"
      ],
      "metadata": {
        "id": "eNxZJmLVhkWM"
      }
    },
    {
      "cell_type": "code",
      "source": [
        "# Plot the regression line in red\n",
        "plt.plot(X, Y, color='red', label='Regression line')\n",
        "\n",
        "# Plot the actual data points in green\n",
        "plt.scatter(x, y, color='green', label='Scatter plot')\n",
        "\n",
        "# Label the X-axis\n",
        "plt.xlabel('Head Size (cm^3)')\n",
        "\n",
        "# Label the Y-axis\n",
        "plt.ylabel('Brain Weight (grams)')\n",
        "\n",
        "# Show legend for better understanding\n",
        "plt.legend()\n",
        "\n",
        "# Display the final plot\n",
        "plt.show()"
      ],
      "metadata": {
        "colab": {
          "base_uri": "https://localhost:8080/",
          "height": 449
        },
        "id": "G16I1G4fhlTd",
        "outputId": "1c36488b-a012-40be-ac8d-d247b330c5d9"
      },
      "execution_count": 9,
      "outputs": [
        {
          "output_type": "display_data",
          "data": {
            "text/plain": [
              "<Figure size 640x480 with 1 Axes>"
            ],
            "image/png": "[encoded data removed]"
          },
          "metadata": {}
        }
      ]
    },
    {
      "cell_type": "markdown",
      "source": [
        "# Function to calculate R² error"
      ],
      "metadata": {
        "id": "E5xGJgcuhyCA"
      }
    },
    {
      "cell_type": "code",
      "source": [
        "# Function to calculate R² error manually\n",
        "def get_error(line_func, x, y):\n",
        "    y_m = np.mean(y)  # Mean of actual Y values\n",
        "\n",
        "    # Predicted Y values using the regression line\n",
        "    y_pred = np.array([line_func(_) for _ in x])\n",
        "\n",
        "    # Total sum of squares (how much y varies from its mean)\n",
        "    ss_t = np.sum((y - y_m) ** 2)\n",
        "\n",
        "    # Residual sum of squares (how far predictions are from actual)\n",
        "    ss_r = np.sum((y - y_pred) ** 2)\n",
        "\n",
        "    # R² score formula = 1 - (ss_r / ss_t)\n",
        "    return 1 - (ss_r / ss_t)"
      ],
      "metadata": {
        "id": "Zg-b01jRhy_K"
      },
      "execution_count": 10,
      "outputs": []
    },
    {
      "cell_type": "markdown",
      "source": [
        "## Calculate R² for manual regression"
      ],
      "metadata": {
        "id": "tgR2-HVmh2ih"
      }
    },
    {
      "cell_type": "code",
      "source": [
        "print(\"R² (Manual Calculation):\", get_error(lin, x, y))"
      ],
      "metadata": {
        "colab": {
          "base_uri": "https://localhost:8080/"
        },
        "id": "dem2mYvkh5gI",
        "outputId": "ab6888b4-2227-43df-da76-5acbc19506ef"
      },
      "execution_count": 11,
      "outputs": [
        {
          "output_type": "stream",
          "name": "stdout",
          "text": [
            "R² (Manual Calculation): 0.639311719957\n"
          ]
        }
      ]
    },
    {
      "cell_type": "markdown",
      "source": [
        "# Using Scikit-learn (in-built)"
      ],
      "metadata": {
        "id": "3XapSvclh-1f"
      }
    },
    {
      "cell_type": "markdown",
      "source": [
        "## Importing Scikit-learn"
      ],
      "metadata": {
        "id": "a2wP2NPWiecj"
      }
    },
    {
      "cell_type": "code",
      "source": [
        "from sklearn.linear_model import LinearRegression"
      ],
      "metadata": {
        "id": "Cn0MqkE8h_pV"
      },
      "execution_count": 14,
      "outputs": []
    },
    {
      "cell_type": "markdown",
      "source": [
        "## Finding R² score from sklearn"
      ],
      "metadata": {
        "id": "NEs7KbpliuA0"
      }
    },
    {
      "cell_type": "code",
      "source": [
        "# Reshape X into 2D array because sklearn expects (n_samples, n_features)\n",
        "x = x.reshape((len(x), 1))\n",
        "\n",
        "# Create LinearRegression model\n",
        "reg = LinearRegression()\n",
        "\n",
        "# Fit model on x and y\n",
        "reg = reg.fit(x, y)\n",
        "\n",
        "# Print R² score from sklearn model\n",
        "print(\"R² (Sklearn):\", reg.score(x, y))"
      ],
      "metadata": {
        "colab": {
          "base_uri": "https://localhost:8080/"
        },
        "id": "Uvuw6OK1iye2",
        "outputId": "69cb4ce4-fce9-4cb9-ae0f-93d8bf5b9f76"
      },
      "execution_count": 15,
      "outputs": [
        {
          "output_type": "stream",
          "name": "stdout",
          "text": [
            "R² (Sklearn): 0.639311719957\n"
          ]
        }
      ]
    }
  ]
}